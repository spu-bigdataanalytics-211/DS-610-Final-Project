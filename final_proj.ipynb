{
  "nbformat": 4,
  "nbformat_minor": 0,
  "metadata": {
    "colab": {
      "name": "final_proj.ipynb",
      "provenance": [],
      "collapsed_sections": [],
      "toc_visible": true
    },
    "kernelspec": {
      "name": "python3",
      "display_name": "Python 3"
    },
    "language_info": {
      "name": "python"
    }
  },
  "cells": [
    {
      "cell_type": "markdown",
      "metadata": {
        "id": "9euJXErqesFi"
      },
      "source": [
        "**Welcome to the DS-610-Big-Data-Analytics Final Project**"
      ]
    },
    {
      "cell_type": "markdown",
      "metadata": {
        "id": "wtE-GZ9cfT3b"
      },
      "source": [
        "Let's install and import required packages"
      ]
    },
    {
      "cell_type": "code",
      "metadata": {
        "colab": {
          "base_uri": "https://localhost:8080/"
        },
        "id": "1fmLGaYpHqM2",
        "outputId": "56b089d2-15ce-4723-be1f-1150ea7900c0"
      },
      "source": [
        "# install java libs and spark.\n",
        "!apt update > /dev/null\n",
        "!apt-get install openjdk-8-jdk-headless -qq > /dev/null\n",
        "!wget -q https://downloads.apache.org/spark/spark-3.1.1/spark-3.1.1-bin-hadoop3.2.tgz\n",
        "!tar xf spark-3.1.1-bin-hadoop3.2.tgz\n",
        "!pip install -q findspark\n",
        "!pip install pandas==0.25.0"
      ],
      "execution_count": null,
      "outputs": [
        {
          "output_type": "stream",
          "text": [
            "\n",
            "WARNING: apt does not have a stable CLI interface. Use with caution in scripts.\n",
            "\n",
            "Requirement already satisfied: pandas==0.25.0 in /usr/local/lib/python3.7/dist-packages (0.25.0)\n",
            "Requirement already satisfied: python-dateutil>=2.6.1 in /usr/local/lib/python3.7/dist-packages (from pandas==0.25.0) (2.8.1)\n",
            "Requirement already satisfied: pytz>=2017.2 in /usr/local/lib/python3.7/dist-packages (from pandas==0.25.0) (2018.9)\n",
            "Requirement already satisfied: numpy>=1.13.3 in /usr/local/lib/python3.7/dist-packages (from pandas==0.25.0) (1.19.5)\n",
            "Requirement already satisfied: six>=1.5 in /usr/local/lib/python3.7/dist-packages (from python-dateutil>=2.6.1->pandas==0.25.0) (1.15.0)\n"
          ],
          "name": "stdout"
        }
      ]
    },
    {
      "cell_type": "code",
      "metadata": {
        "id": "VtT-CSuKHtgG"
      },
      "source": [
        "# set environment variables for java and spark\n",
        "import os\n",
        "os.environ[\"JAVA_HOME\"] = \"/usr/lib/jvm/java-8-openjdk-amd64\"\n",
        "os.environ[\"SPARK_HOME\"] = \"/content/spark-3.1.1-bin-hadoop3.2\""
      ],
      "execution_count": null,
      "outputs": []
    },
    {
      "cell_type": "code",
      "metadata": {
        "id": "qUEUUQkJHv66"
      },
      "source": [
        "#Importing FindSpark\n",
        "import findspark\n",
        "findspark.init()"
      ],
      "execution_count": null,
      "outputs": []
    },
    {
      "cell_type": "code",
      "metadata": {
        "id": "KOx71HUDH8ty"
      },
      "source": [
        "# Importing SparkSession\n",
        "from pyspark.sql import SparkSession\n",
        "spark=SparkSession.builder.appName('final_proj').getOrCreate()"
      ],
      "execution_count": null,
      "outputs": []
    },
    {
      "cell_type": "markdown",
      "metadata": {
        "id": "zIMAiVOEfnkI"
      },
      "source": [
        "Let's first read data into RDD"
      ]
    },
    {
      "cell_type": "code",
      "metadata": {
        "id": "AjeiJ3GHIHhm"
      },
      "source": [
        "# Importing csv and SparkContent\n",
        "import csv\n",
        "from pyspark import SparkContext\n",
        "sc =SparkContext.getOrCreate()\n",
        "\n",
        "# Reading data into rdd\n",
        "rdd = sc.textFile(\"winequality-red.csv\")\n",
        "rdd = rdd.mapPartitions(lambda x: csv.reader(x))"
      ],
      "execution_count": null,
      "outputs": []
    },
    {
      "cell_type": "markdown",
      "metadata": {
        "id": "zYnGIdW9fxqg"
      },
      "source": [
        "We are going to convert the RDD data into dataframe and so we will first separate the header and then transfer data into dataframe\n",
        "\n"
      ]
    },
    {
      "cell_type": "code",
      "metadata": {
        "id": "lTOc8q73Icb_"
      },
      "source": [
        "header = rdd.first()"
      ],
      "execution_count": null,
      "outputs": []
    },
    {
      "cell_type": "code",
      "metadata": {
        "colab": {
          "base_uri": "https://localhost:8080/"
        },
        "id": "zfrTXIJyP7U5",
        "outputId": "fd292047-47ac-4aa7-bc3f-959b5fa17295"
      },
      "source": [
        "# Let's checkout our header fields to make sure we got it right\n",
        "header"
      ],
      "execution_count": null,
      "outputs": [
        {
          "output_type": "execute_result",
          "data": {
            "text/plain": [
              "['fixed acidity',\n",
              " 'volatile acidity',\n",
              " 'citric acid',\n",
              " 'residual sugar',\n",
              " 'chlorides',\n",
              " 'free sulfur dioxide',\n",
              " 'total sulfur dioxide',\n",
              " 'density',\n",
              " 'pH',\n",
              " 'sulphates',\n",
              " 'alcohol',\n",
              " 'quality']"
            ]
          },
          "metadata": {
            "tags": []
          },
          "execution_count": 110
        }
      ]
    },
    {
      "cell_type": "code",
      "metadata": {
        "id": "9CumClMfPgA6"
      },
      "source": [
        "# wine now holds entire red-wine dataset\n",
        "wine = rdd.filter(lambda row : row != header).toDF(header)"
      ],
      "execution_count": null,
      "outputs": []
    },
    {
      "cell_type": "code",
      "metadata": {
        "colab": {
          "base_uri": "https://localhost:8080/"
        },
        "id": "V_08tvSgPuZZ",
        "outputId": "bb1ee896-c788-4993-db7a-1dfa292b3d42"
      },
      "source": [
        "# let's checkout wine's schema\n",
        "wine.printSchema()"
      ],
      "execution_count": null,
      "outputs": [
        {
          "output_type": "stream",
          "text": [
            "root\n",
            " |-- fixed acidity: string (nullable = true)\n",
            " |-- volatile acidity: string (nullable = true)\n",
            " |-- citric acid: string (nullable = true)\n",
            " |-- residual sugar: string (nullable = true)\n",
            " |-- chlorides: string (nullable = true)\n",
            " |-- free sulfur dioxide: string (nullable = true)\n",
            " |-- total sulfur dioxide: string (nullable = true)\n",
            " |-- density: string (nullable = true)\n",
            " |-- pH: string (nullable = true)\n",
            " |-- sulphates: string (nullable = true)\n",
            " |-- alcohol: string (nullable = true)\n",
            " |-- quality: string (nullable = true)\n",
            "\n"
          ],
          "name": "stdout"
        }
      ]
    },
    {
      "cell_type": "markdown",
      "metadata": {
        "id": "MVXg8CaYgnh2"
      },
      "source": [
        "Now let's read data into Pandas Dataframe adn do some EDA"
      ]
    },
    {
      "cell_type": "code",
      "metadata": {
        "id": "rQ5iZZM5YxWO"
      },
      "source": [
        "#Reading data into pandas dataframe\n",
        "import pandas as pd\n",
        "from matplotlib import pyplot as plt\n",
        "\n",
        "wine=pd.read_csv('winequality-red.csv')\n",
        "\n",
        "\n",
        "\n",
        "\n"
      ],
      "execution_count": null,
      "outputs": []
    },
    {
      "cell_type": "code",
      "metadata": {
        "colab": {
          "base_uri": "https://localhost:8080/",
          "height": 297
        },
        "id": "lIn3UnG3g3n3",
        "outputId": "f312b02c-b166-4d84-f6a0-1abf1d7c9299"
      },
      "source": [
        "# Let's take a look at our data\n",
        "wine.describe()"
      ],
      "execution_count": null,
      "outputs": [
        {
          "output_type": "execute_result",
          "data": {
            "text/html": [
              "<div>\n",
              "<style scoped>\n",
              "    .dataframe tbody tr th:only-of-type {\n",
              "        vertical-align: middle;\n",
              "    }\n",
              "\n",
              "    .dataframe tbody tr th {\n",
              "        vertical-align: top;\n",
              "    }\n",
              "\n",
              "    .dataframe thead th {\n",
              "        text-align: right;\n",
              "    }\n",
              "</style>\n",
              "<table border=\"1\" class=\"dataframe\">\n",
              "  <thead>\n",
              "    <tr style=\"text-align: right;\">\n",
              "      <th></th>\n",
              "      <th>fixed acidity</th>\n",
              "      <th>volatile acidity</th>\n",
              "      <th>citric acid</th>\n",
              "      <th>residual sugar</th>\n",
              "      <th>chlorides</th>\n",
              "      <th>free sulfur dioxide</th>\n",
              "      <th>total sulfur dioxide</th>\n",
              "      <th>density</th>\n",
              "      <th>pH</th>\n",
              "      <th>sulphates</th>\n",
              "      <th>alcohol</th>\n",
              "      <th>quality</th>\n",
              "    </tr>\n",
              "  </thead>\n",
              "  <tbody>\n",
              "    <tr>\n",
              "      <th>count</th>\n",
              "      <td>1599.000000</td>\n",
              "      <td>1599.000000</td>\n",
              "      <td>1599.000000</td>\n",
              "      <td>1599.000000</td>\n",
              "      <td>1599.000000</td>\n",
              "      <td>1599.000000</td>\n",
              "      <td>1599.000000</td>\n",
              "      <td>1599.000000</td>\n",
              "      <td>1599.000000</td>\n",
              "      <td>1599.000000</td>\n",
              "      <td>1599.000000</td>\n",
              "      <td>1599.000000</td>\n",
              "    </tr>\n",
              "    <tr>\n",
              "      <th>mean</th>\n",
              "      <td>8.319637</td>\n",
              "      <td>0.527821</td>\n",
              "      <td>0.270976</td>\n",
              "      <td>2.538806</td>\n",
              "      <td>0.087467</td>\n",
              "      <td>15.874922</td>\n",
              "      <td>46.467792</td>\n",
              "      <td>0.996747</td>\n",
              "      <td>3.311113</td>\n",
              "      <td>0.658149</td>\n",
              "      <td>10.422983</td>\n",
              "      <td>5.636023</td>\n",
              "    </tr>\n",
              "    <tr>\n",
              "      <th>std</th>\n",
              "      <td>1.741096</td>\n",
              "      <td>0.179060</td>\n",
              "      <td>0.194801</td>\n",
              "      <td>1.409928</td>\n",
              "      <td>0.047065</td>\n",
              "      <td>10.460157</td>\n",
              "      <td>32.895324</td>\n",
              "      <td>0.001887</td>\n",
              "      <td>0.154386</td>\n",
              "      <td>0.169507</td>\n",
              "      <td>1.065668</td>\n",
              "      <td>0.807569</td>\n",
              "    </tr>\n",
              "    <tr>\n",
              "      <th>min</th>\n",
              "      <td>4.600000</td>\n",
              "      <td>0.120000</td>\n",
              "      <td>0.000000</td>\n",
              "      <td>0.900000</td>\n",
              "      <td>0.012000</td>\n",
              "      <td>1.000000</td>\n",
              "      <td>6.000000</td>\n",
              "      <td>0.990070</td>\n",
              "      <td>2.740000</td>\n",
              "      <td>0.330000</td>\n",
              "      <td>8.400000</td>\n",
              "      <td>3.000000</td>\n",
              "    </tr>\n",
              "    <tr>\n",
              "      <th>25%</th>\n",
              "      <td>7.100000</td>\n",
              "      <td>0.390000</td>\n",
              "      <td>0.090000</td>\n",
              "      <td>1.900000</td>\n",
              "      <td>0.070000</td>\n",
              "      <td>7.000000</td>\n",
              "      <td>22.000000</td>\n",
              "      <td>0.995600</td>\n",
              "      <td>3.210000</td>\n",
              "      <td>0.550000</td>\n",
              "      <td>9.500000</td>\n",
              "      <td>5.000000</td>\n",
              "    </tr>\n",
              "    <tr>\n",
              "      <th>50%</th>\n",
              "      <td>7.900000</td>\n",
              "      <td>0.520000</td>\n",
              "      <td>0.260000</td>\n",
              "      <td>2.200000</td>\n",
              "      <td>0.079000</td>\n",
              "      <td>14.000000</td>\n",
              "      <td>38.000000</td>\n",
              "      <td>0.996750</td>\n",
              "      <td>3.310000</td>\n",
              "      <td>0.620000</td>\n",
              "      <td>10.200000</td>\n",
              "      <td>6.000000</td>\n",
              "    </tr>\n",
              "    <tr>\n",
              "      <th>75%</th>\n",
              "      <td>9.200000</td>\n",
              "      <td>0.640000</td>\n",
              "      <td>0.420000</td>\n",
              "      <td>2.600000</td>\n",
              "      <td>0.090000</td>\n",
              "      <td>21.000000</td>\n",
              "      <td>62.000000</td>\n",
              "      <td>0.997835</td>\n",
              "      <td>3.400000</td>\n",
              "      <td>0.730000</td>\n",
              "      <td>11.100000</td>\n",
              "      <td>6.000000</td>\n",
              "    </tr>\n",
              "    <tr>\n",
              "      <th>max</th>\n",
              "      <td>15.900000</td>\n",
              "      <td>1.580000</td>\n",
              "      <td>1.000000</td>\n",
              "      <td>15.500000</td>\n",
              "      <td>0.611000</td>\n",
              "      <td>72.000000</td>\n",
              "      <td>289.000000</td>\n",
              "      <td>1.003690</td>\n",
              "      <td>4.010000</td>\n",
              "      <td>2.000000</td>\n",
              "      <td>14.900000</td>\n",
              "      <td>8.000000</td>\n",
              "    </tr>\n",
              "  </tbody>\n",
              "</table>\n",
              "</div>"
            ],
            "text/plain": [
              "       fixed acidity  volatile acidity  ...      alcohol      quality\n",
              "count    1599.000000       1599.000000  ...  1599.000000  1599.000000\n",
              "mean        8.319637          0.527821  ...    10.422983     5.636023\n",
              "std         1.741096          0.179060  ...     1.065668     0.807569\n",
              "min         4.600000          0.120000  ...     8.400000     3.000000\n",
              "25%         7.100000          0.390000  ...     9.500000     5.000000\n",
              "50%         7.900000          0.520000  ...    10.200000     6.000000\n",
              "75%         9.200000          0.640000  ...    11.100000     6.000000\n",
              "max        15.900000          1.580000  ...    14.900000     8.000000\n",
              "\n",
              "[8 rows x 12 columns]"
            ]
          },
          "metadata": {
            "tags": []
          },
          "execution_count": 114
        }
      ]
    },
    {
      "cell_type": "code",
      "metadata": {
        "colab": {
          "base_uri": "https://localhost:8080/"
        },
        "id": "xN7hGZxLc2Xg",
        "outputId": "448d3c91-7f7f-4fb8-dd1b-4240071045d0"
      },
      "source": [
        "# Let's look at how correlated our data is with wine quality\n",
        "wine.corr()['quality']"
      ],
      "execution_count": null,
      "outputs": [
        {
          "output_type": "execute_result",
          "data": {
            "text/plain": [
              "fixed acidity           0.124052\n",
              "volatile acidity       -0.390558\n",
              "citric acid             0.226373\n",
              "residual sugar          0.013732\n",
              "chlorides              -0.128907\n",
              "free sulfur dioxide    -0.050656\n",
              "total sulfur dioxide   -0.185100\n",
              "density                -0.174919\n",
              "pH                     -0.057731\n",
              "sulphates               0.251397\n",
              "alcohol                 0.476166\n",
              "quality                 1.000000\n",
              "Name: quality, dtype: float64"
            ]
          },
          "metadata": {
            "tags": []
          },
          "execution_count": 115
        }
      ]
    },
    {
      "cell_type": "code",
      "metadata": {
        "colab": {
          "base_uri": "https://localhost:8080/",
          "height": 679
        },
        "id": "oN7UN9Hoct5I",
        "outputId": "3ec7280e-b279-41c7-c507-32d641427563"
      },
      "source": [
        "# Let's look at the heatmap correlation matrix\n",
        "import seaborn as sns\n",
        "\n",
        "plt.figure(figsize=(10,10))\n",
        "sns.heatmap(wine.corr(),annot=True,linewidth=0.5,center=0,cmap='coolwarm')\n",
        "plt.show()"
      ],
      "execution_count": null,
      "outputs": [
        {
          "output_type": "display_data",
          "data": {
            "image/png": "[encoded data removed]",
            "text/plain": [
              "<Figure size 720x720 with 2 Axes>"
            ]
          },
          "metadata": {
            "tags": [],
            "needs_background": "light"
          }
        }
      ]
    },
    {
      "cell_type": "code",
      "metadata": {
        "colab": {
          "base_uri": "https://localhost:8080/",
          "height": 295
        },
        "id": "6z0_jeFxdBhv",
        "outputId": "fee14f1a-87ce-4126-c20d-3b8acb00d6bd"
      },
      "source": [
        "# Let's see how the quality is distributed across the dataset\n",
        "\n",
        "plt.hist(wine.quality,bins=6,alpha=0.5,histtype='bar',ec='red')\n",
        "plt.title('Quality Distribution')\n",
        "plt.xlabel('Quality')\n",
        "plt.ylabel('Count')\n",
        "plt.show()"
      ],
      "execution_count": null,
      "outputs": [
        {
          "output_type": "display_data",
          "data": {
            "image/png": "[encoded data removed]",
            "text/plain": [
              "<Figure size 432x288 with 1 Axes>"
            ]
          },
          "metadata": {
            "tags": [],
            "needs_background": "light"
          }
        }
      ]
    },
    {
      "cell_type": "markdown",
      "metadata": {
        "id": "yg1_gKs8h7y-"
      },
      "source": [
        "Seems like quality distribution lies mostly around 5 and 6 count."
      ]
    },
    {
      "cell_type": "code",
      "metadata": {
        "colab": {
          "base_uri": "https://localhost:8080/",
          "height": 333
        },
        "id": "i47lTy5ddG2P",
        "outputId": "24e621ed-a766-4317-fab6-b41c8b97aeca"
      },
      "source": [
        "# Let's compare wine quality with different categories\n",
        "plt.figure(figsize=(8,4))\n",
        "sns.barplot(wine['quality'],wine['pH'],palette=\"tab10\")\n",
        "plt.show()"
      ],
      "execution_count": null,
      "outputs": [
        {
          "output_type": "stream",
          "text": [
            "/usr/local/lib/python3.7/dist-packages/seaborn/_decorators.py:43: FutureWarning: Pass the following variables as keyword args: x, y. From version 0.12, the only valid positional argument will be `data`, and passing other arguments without an explicit keyword will result in an error or misinterpretation.\n",
            "  FutureWarning\n"
          ],
          "name": "stderr"
        },
        {
          "output_type": "display_data",
          "data": {
            "image/png": "[encoded data removed]",
            "text/plain": [
              "<Figure size 576x288 with 1 Axes>"
            ]
          },
          "metadata": {
            "tags": [],
            "needs_background": "light"
          }
        }
      ]
    },
    {
      "cell_type": "markdown",
      "metadata": {
        "id": "tctVF0IldLgE"
      },
      "source": [
        "From the above barplot, it seems like there is a slight decrease in pH with the increase in quality of the wine."
      ]
    },
    {
      "cell_type": "code",
      "metadata": {
        "colab": {
          "base_uri": "https://localhost:8080/",
          "height": 333
        },
        "id": "5eJS5h1si9EA",
        "outputId": "3ff4b76a-736b-4fca-c2da-50531c752db2"
      },
      "source": [
        "# Let's compare wine quality with different categories\n",
        "plt.figure(figsize=(8,4))\n",
        "sns.barplot(wine['quality'],wine['alcohol'],palette=\"tab10\")\n",
        "plt.show()"
      ],
      "execution_count": null,
      "outputs": [
        {
          "output_type": "stream",
          "text": [
            "/usr/local/lib/python3.7/dist-packages/seaborn/_decorators.py:43: FutureWarning: Pass the following variables as keyword args: x, y. From version 0.12, the only valid positional argument will be `data`, and passing other arguments without an explicit keyword will result in an error or misinterpretation.\n",
            "  FutureWarning\n"
          ],
          "name": "stderr"
        },
        {
          "output_type": "display_data",
          "data": {
            "image/png": "[encoded data removed]",
            "text/plain": [
              "<Figure size 576x288 with 1 Axes>"
            ]
          },
          "metadata": {
            "tags": [],
            "needs_background": "light"
          }
        }
      ]
    },
    {
      "cell_type": "markdown",
      "metadata": {
        "id": "LuPT60-CdaJW"
      },
      "source": [
        "From the above barplot, it seems like there is increase in quality of wine with increase in alcohol."
      ]
    },
    {
      "cell_type": "code",
      "metadata": {
        "colab": {
          "base_uri": "https://localhost:8080/",
          "height": 333
        },
        "id": "v3t64vP7jPY0",
        "outputId": "cb37ad37-f372-4978-bf3f-46ff61ed8d82"
      },
      "source": [
        "# Let's compare wine quality with different categories\n",
        "plt.figure(figsize=(8,4))\n",
        "sns.barplot(wine['quality'],wine['residual sugar'],palette=\"tab10\")\n",
        "plt.show()"
      ],
      "execution_count": null,
      "outputs": [
        {
          "output_type": "stream",
          "text": [
            "/usr/local/lib/python3.7/dist-packages/seaborn/_decorators.py:43: FutureWarning: Pass the following variables as keyword args: x, y. From version 0.12, the only valid positional argument will be `data`, and passing other arguments without an explicit keyword will result in an error or misinterpretation.\n",
            "  FutureWarning\n"
          ],
          "name": "stderr"
        },
        {
          "output_type": "display_data",
          "data": {
            "image/png": "[encoded data removed]",
            "text/plain": [
              "<Figure size 576x288 with 1 Axes>"
            ]
          },
          "metadata": {
            "tags": [],
            "needs_background": "light"
          }
        }
      ]
    },
    {
      "cell_type": "markdown",
      "metadata": {
        "id": "XZhc0b11jaN3"
      },
      "source": [
        "From the above barplot, we can't say much about the effect of residual sugar on quality"
      ]
    },
    {
      "cell_type": "code",
      "metadata": {
        "colab": {
          "base_uri": "https://localhost:8080/",
          "height": 333
        },
        "id": "E2mQfyTUdnbC",
        "outputId": "dcca2f86-aae9-424e-e604-dda9414604b0"
      },
      "source": [
        "# Let's compare wine quality with different categories\n",
        "plt.figure(figsize=(8,4))\n",
        "sns.barplot(wine['quality'],wine['density'],palette=\"tab10\")\n",
        "plt.show()"
      ],
      "execution_count": null,
      "outputs": [
        {
          "output_type": "stream",
          "text": [
            "/usr/local/lib/python3.7/dist-packages/seaborn/_decorators.py:43: FutureWarning: Pass the following variables as keyword args: x, y. From version 0.12, the only valid positional argument will be `data`, and passing other arguments without an explicit keyword will result in an error or misinterpretation.\n",
            "  FutureWarning\n"
          ],
          "name": "stderr"
        },
        {
          "output_type": "display_data",
          "data": {
            "image/png": "[encoded data removed]",
            "text/plain": [
              "<Figure size 576x288 with 1 Axes>"
            ]
          },
          "metadata": {
            "tags": [],
            "needs_background": "light"
          }
        }
      ]
    },
    {
      "cell_type": "markdown",
      "metadata": {
        "id": "PQ0PosCPdwSe"
      },
      "source": [
        "From the above graph, we don't see much effect of density on the wine either"
      ]
    },
    {
      "cell_type": "code",
      "metadata": {
        "colab": {
          "base_uri": "https://localhost:8080/",
          "height": 333
        },
        "id": "6UZttV4dduSW",
        "outputId": "bf17fcad-3ec8-4d1c-b591-9b08549b687b"
      },
      "source": [
        "# Let's compare wine quality with different categories\n",
        "plt.figure(figsize=(8,4))\n",
        "sns.barplot(wine['quality'],wine['sulphates'],palette=\"tab10\")\n",
        "plt.show()"
      ],
      "execution_count": null,
      "outputs": [
        {
          "output_type": "stream",
          "text": [
            "/usr/local/lib/python3.7/dist-packages/seaborn/_decorators.py:43: FutureWarning: Pass the following variables as keyword args: x, y. From version 0.12, the only valid positional argument will be `data`, and passing other arguments without an explicit keyword will result in an error or misinterpretation.\n",
            "  FutureWarning\n"
          ],
          "name": "stderr"
        },
        {
          "output_type": "display_data",
          "data": {
            "image/png": "[encoded data removed]",
            "text/plain": [
              "<Figure size 576x288 with 1 Axes>"
            ]
          },
          "metadata": {
            "tags": [],
            "needs_background": "light"
          }
        }
      ]
    },
    {
      "cell_type": "markdown",
      "metadata": {
        "id": "epyIoEKSd3Xg"
      },
      "source": [
        "From the above graph, we can say that the quality of wine increases with increase in sulphates in the wine"
      ]
    },
    {
      "cell_type": "code",
      "metadata": {
        "colab": {
          "base_uri": "https://localhost:8080/",
          "height": 333
        },
        "id": "_KfpJr42d2d8",
        "outputId": "26a29f17-5738-4298-fb50-0016c6bc12b5"
      },
      "source": [
        "# Let's compare wine quality with different categories\n",
        "plt.figure(figsize=(8,4))\n",
        "sns.barplot(wine['quality'],wine['chlorides'],palette=\"tab10\")\n",
        "plt.show()"
      ],
      "execution_count": null,
      "outputs": [
        {
          "output_type": "stream",
          "text": [
            "/usr/local/lib/python3.7/dist-packages/seaborn/_decorators.py:43: FutureWarning: Pass the following variables as keyword args: x, y. From version 0.12, the only valid positional argument will be `data`, and passing other arguments without an explicit keyword will result in an error or misinterpretation.\n",
            "  FutureWarning\n"
          ],
          "name": "stderr"
        },
        {
          "output_type": "display_data",
          "data": {
            "image/png": "[encoded data removed]",
            "text/plain": [
              "<Figure size 576x288 with 1 Axes>"
            ]
          },
          "metadata": {
            "tags": [],
            "needs_background": "light"
          }
        }
      ]
    },
    {
      "cell_type": "markdown",
      "metadata": {
        "id": "oJ_0pYtjd9YN"
      },
      "source": [
        "From the above graph we can see that the quality of wine decreases with increase in chlorides"
      ]
    },
    {
      "cell_type": "code",
      "metadata": {
        "colab": {
          "base_uri": "https://localhost:8080/",
          "height": 337
        },
        "id": "X1Y-WD-Zd_i3",
        "outputId": "6a2269eb-7b44-4a5e-fe0f-8bdf13ab3ed7"
      },
      "source": [
        "# Let's compare wine quality with different categories\n",
        "plt.figure(figsize=(8,4))\n",
        "sns.barplot(wine['quality'],wine['citric acid'],palette=\"tab10\")\n",
        "plt.show()"
      ],
      "execution_count": null,
      "outputs": [
        {
          "output_type": "stream",
          "text": [
            "/usr/local/lib/python3.7/dist-packages/seaborn/_decorators.py:43: FutureWarning: Pass the following variables as keyword args: x, y. From version 0.12, the only valid positional argument will be `data`, and passing other arguments without an explicit keyword will result in an error or misinterpretation.\n",
            "  FutureWarning\n"
          ],
          "name": "stderr"
        },
        {
          "output_type": "display_data",
          "data": {
            "image/png": "[encoded data removed]",
            "text/plain": [
              "<Figure size 576x288 with 1 Axes>"
            ]
          },
          "metadata": {
            "tags": [],
            "needs_background": "light"
          }
        }
      ]
    },
    {
      "cell_type": "markdown",
      "metadata": {
        "id": "5-FOk8SieFdL"
      },
      "source": [
        "From the above graph we can see that the quality of wine increases with increase in citric acid"
      ]
    },
    {
      "cell_type": "code",
      "metadata": {
        "colab": {
          "base_uri": "https://localhost:8080/",
          "height": 333
        },
        "id": "elusJrCneF86",
        "outputId": "782c77c1-ab25-4dd4-d1ea-b0f21027fda9"
      },
      "source": [
        "# Let's compare wine quality with different categories\n",
        "plt.figure(figsize=(8,4))\n",
        "sns.barplot(wine['quality'],wine['volatile acidity'],palette=\"tab10\")\n",
        "plt.show()"
      ],
      "execution_count": null,
      "outputs": [
        {
          "output_type": "stream",
          "text": [
            "/usr/local/lib/python3.7/dist-packages/seaborn/_decorators.py:43: FutureWarning: Pass the following variables as keyword args: x, y. From version 0.12, the only valid positional argument will be `data`, and passing other arguments without an explicit keyword will result in an error or misinterpretation.\n",
            "  FutureWarning\n"
          ],
          "name": "stderr"
        },
        {
          "output_type": "display_data",
          "data": {
            "image/png": "[encoded data removed]",
            "text/plain": [
              "<Figure size 576x288 with 1 Axes>"
            ]
          },
          "metadata": {
            "tags": [],
            "needs_background": "light"
          }
        }
      ]
    },
    {
      "cell_type": "markdown",
      "metadata": {
        "id": "BLmaXL_SeJqG"
      },
      "source": [
        "From the above boxplot we can see that the quality of wine decreases with the increase in volatile acids."
      ]
    },
    {
      "cell_type": "code",
      "metadata": {
        "colab": {
          "base_uri": "https://localhost:8080/",
          "height": 337
        },
        "id": "s6s5bWqyeM0d",
        "outputId": "14796037-4d09-4809-f7f6-49f469d8fa36"
      },
      "source": [
        "# Let's compare wine quality with different categories\n",
        "plt.figure(figsize=(8,4))\n",
        "sns.barplot(wine['quality'],wine['fixed acidity'],palette=\"tab10\")\n",
        "plt.show()"
      ],
      "execution_count": null,
      "outputs": [
        {
          "output_type": "stream",
          "text": [
            "/usr/local/lib/python3.7/dist-packages/seaborn/_decorators.py:43: FutureWarning: Pass the following variables as keyword args: x, y. From version 0.12, the only valid positional argument will be `data`, and passing other arguments without an explicit keyword will result in an error or misinterpretation.\n",
            "  FutureWarning\n"
          ],
          "name": "stderr"
        },
        {
          "output_type": "display_data",
          "data": {
            "image/png": "[encoded data removed]",
            "text/plain": [
              "<Figure size 576x288 with 1 Axes>"
            ]
          },
          "metadata": {
            "tags": [],
            "needs_background": "light"
          }
        }
      ]
    },
    {
      "cell_type": "markdown",
      "metadata": {
        "id": "cP4uHmrjeS_t"
      },
      "source": [
        "From the above graph, fixed acidity doesn't seem to have much effect on quality of wine."
      ]
    },
    {
      "cell_type": "markdown",
      "metadata": {
        "id": "zGDiru-cmD1-"
      },
      "source": [
        "We first read data into RDD, then converted it into dataframe, then read it in pandas and did exploratory analysis. Alright now let's read the data directly into spark dataframe"
      ]
    },
    {
      "cell_type": "code",
      "metadata": {
        "id": "4TKbsf8aeV1d"
      },
      "source": [
        "# reading the dataset into dataframe\n",
        "wine=spark.read.csv('winequality-red.csv',inferSchema=True,header=True)"
      ],
      "execution_count": null,
      "outputs": []
    },
    {
      "cell_type": "code",
      "metadata": {
        "colab": {
          "base_uri": "https://localhost:8080/"
        },
        "id": "_yEb9DDjIkMq",
        "outputId": "1c903c96-ebeb-4635-de4d-322ed8fd24a0"
      },
      "source": [
        "# getting row anc column count\n",
        "print((wine.count(),len(wine.columns)))"
      ],
      "execution_count": null,
      "outputs": [
        {
          "output_type": "stream",
          "text": [
            "(1599, 12)\n"
          ],
          "name": "stdout"
        }
      ]
    },
    {
      "cell_type": "code",
      "metadata": {
        "colab": {
          "base_uri": "https://localhost:8080/"
        },
        "id": "Q0qSBEOxIoux",
        "outputId": "de5d26a6-56b7-4d90-e7f1-e09fa181c9d9"
      },
      "source": [
        "# getting schema\n",
        "wine.printSchema()"
      ],
      "execution_count": null,
      "outputs": [
        {
          "output_type": "stream",
          "text": [
            "root\n",
            " |-- fixed acidity: double (nullable = true)\n",
            " |-- volatile acidity: double (nullable = true)\n",
            " |-- citric acid: double (nullable = true)\n",
            " |-- residual sugar: double (nullable = true)\n",
            " |-- chlorides: double (nullable = true)\n",
            " |-- free sulfur dioxide: double (nullable = true)\n",
            " |-- total sulfur dioxide: double (nullable = true)\n",
            " |-- density: double (nullable = true)\n",
            " |-- pH: double (nullable = true)\n",
            " |-- sulphates: double (nullable = true)\n",
            " |-- alcohol: double (nullable = true)\n",
            " |-- quality: integer (nullable = true)\n",
            "\n"
          ],
          "name": "stdout"
        }
      ]
    },
    {
      "cell_type": "code",
      "metadata": {
        "colab": {
          "base_uri": "https://localhost:8080/"
        },
        "id": "gm54apk0Irny",
        "outputId": "5d1ab357-7ba2-4a7e-f71f-dad1a08387f7"
      },
      "source": [
        "# Lets looks at 'quality' column\n",
        "wine.groupBy('quality').count().show()"
      ],
      "execution_count": null,
      "outputs": [
        {
          "output_type": "stream",
          "text": [
            "+-------+-----+\n",
            "|quality|count|\n",
            "+-------+-----+\n",
            "|      6|  638|\n",
            "|      3|   10|\n",
            "|      5|  681|\n",
            "|      4|   53|\n",
            "|      8|   18|\n",
            "|      7|  199|\n",
            "+-------+-----+\n",
            "\n"
          ],
          "name": "stdout"
        }
      ]
    },
    {
      "cell_type": "markdown",
      "metadata": {
        "id": "-src74lImXJD"
      },
      "source": [
        "In order to convert quality into a categorical variable, let's assume the quality values 6,7,8 as measure good quality of wine and quality values 3,4,5 as not good quality."
      ]
    },
    {
      "cell_type": "markdown",
      "metadata": {
        "id": "V3HvMOZsIvsa"
      },
      "source": [
        "# We are going to create a new variable 'good quality' based on above mentioned plan and then we will remove the column 'quality' from our dataframe as we will no longer need it. "
      ]
    },
    {
      "cell_type": "code",
      "metadata": {
        "id": "-znz7dlrIx0h"
      },
      "source": [
        "# Creating a new column 'good quality'\n",
        "wine = wine.withColumn('good_quality', wine.quality>5)"
      ],
      "execution_count": null,
      "outputs": []
    },
    {
      "cell_type": "code",
      "metadata": {
        "colab": {
          "base_uri": "https://localhost:8080/"
        },
        "id": "HZgGx0BrIwbB",
        "outputId": "c3ab26c6-9b23-48cb-8d57-28a0687777d4"
      },
      "source": [
        "wine.groupBy('good_quality').count().show()"
      ],
      "execution_count": null,
      "outputs": [
        {
          "output_type": "stream",
          "text": [
            "+------------+-----+\n",
            "|good_quality|count|\n",
            "+------------+-----+\n",
            "|        true|  855|\n",
            "|       false|  744|\n",
            "+------------+-----+\n",
            "\n"
          ],
          "name": "stdout"
        }
      ]
    },
    {
      "cell_type": "code",
      "metadata": {
        "id": "eV-x_G37I8pv"
      },
      "source": [
        "# now let's convert the boolean true false into 0 and 1\n",
        "import pyspark.sql.functions as F\n",
        "\n",
        "wine = wine.withColumn( \"good_quality\" , F.when( F.col(\"good_quality\") , F.lit(1) ).otherwise(0) )"
      ],
      "execution_count": null,
      "outputs": []
    },
    {
      "cell_type": "code",
      "metadata": {
        "colab": {
          "base_uri": "https://localhost:8080/"
        },
        "id": "KGZ_XgL2I_GH",
        "outputId": "06c705d4-3565-4e8a-9dc7-c7bfb2df35a4"
      },
      "source": [
        "# Alrigth let's check our new categorical column\n",
        "wine.groupBy('good_quality').count().show()"
      ],
      "execution_count": null,
      "outputs": [
        {
          "output_type": "stream",
          "text": [
            "+------------+-----+\n",
            "|good_quality|count|\n",
            "+------------+-----+\n",
            "|           1|  855|\n",
            "|           0|  744|\n",
            "+------------+-----+\n",
            "\n"
          ],
          "name": "stdout"
        }
      ]
    },
    {
      "cell_type": "code",
      "metadata": {
        "colab": {
          "base_uri": "https://localhost:8080/"
        },
        "id": "cmsRE2uVJBvQ",
        "outputId": "255b743a-02f1-4dde-92b4-f5592d187e77"
      },
      "source": [
        "# Let's again look at our schema\n",
        "wine.printSchema()"
      ],
      "execution_count": null,
      "outputs": [
        {
          "output_type": "stream",
          "text": [
            "root\n",
            " |-- fixed acidity: double (nullable = true)\n",
            " |-- volatile acidity: double (nullable = true)\n",
            " |-- citric acid: double (nullable = true)\n",
            " |-- residual sugar: double (nullable = true)\n",
            " |-- chlorides: double (nullable = true)\n",
            " |-- free sulfur dioxide: double (nullable = true)\n",
            " |-- total sulfur dioxide: double (nullable = true)\n",
            " |-- density: double (nullable = true)\n",
            " |-- pH: double (nullable = true)\n",
            " |-- sulphates: double (nullable = true)\n",
            " |-- alcohol: double (nullable = true)\n",
            " |-- quality: integer (nullable = true)\n",
            " |-- good_quality: integer (nullable = false)\n",
            "\n"
          ],
          "name": "stdout"
        }
      ]
    },
    {
      "cell_type": "markdown",
      "metadata": {
        "id": "MFw-AssLJK23"
      },
      "source": [
        "Totally unrelated SQL querying with the data"
      ]
    },
    {
      "cell_type": "code",
      "metadata": {
        "colab": {
          "base_uri": "https://localhost:8080/"
        },
        "id": "VDD4JtzOJIPx",
        "outputId": "203bd31a-8ef5-45d3-ae68-bccc4f9f40dd"
      },
      "source": [
        "wine.createOrReplaceTempView(\"DATA\")\n",
        "spark.sql(\"SELECT * FROM DATA where alcohol > 10\").show()"
      ],
      "execution_count": null,
      "outputs": [
        {
          "output_type": "stream",
          "text": [
            "+-------------+----------------+-----------+--------------+---------+-------------------+--------------------+-------+----+---------+-------+-------+------------+\n",
            "|fixed acidity|volatile acidity|citric acid|residual sugar|chlorides|free sulfur dioxide|total sulfur dioxide|density|  pH|sulphates|alcohol|quality|good_quality|\n",
            "+-------------+----------------+-----------+--------------+---------+-------------------+--------------------+-------+----+---------+-------+-------+------------+\n",
            "|          7.5|             0.5|       0.36|           6.1|    0.071|               17.0|               102.0| 0.9978|3.35|      0.8|   10.5|      5|           0|\n",
            "|          7.5|             0.5|       0.36|           6.1|    0.071|               17.0|               102.0| 0.9978|3.35|      0.8|   10.5|      5|           0|\n",
            "|          8.5|            0.28|       0.56|           1.8|    0.092|               35.0|               103.0| 0.9969| 3.3|     0.75|   10.5|      7|           1|\n",
            "|          6.7|           0.675|       0.07|           2.4|    0.089|               17.0|                82.0| 0.9958|3.35|     0.54|   10.1|      5|           0|\n",
            "|          6.9|           0.685|        0.0|           2.5|    0.105|               22.0|                37.0| 0.9966|3.46|     0.57|   10.6|      6|           1|\n",
            "|          7.8|             0.6|       0.14|           2.4|    0.086|                3.0|                15.0| 0.9975|3.42|      0.6|   10.8|      6|           1|\n",
            "|          7.3|            0.45|       0.36|           5.9|    0.074|               12.0|                87.0| 0.9978|3.33|     0.83|   10.5|      5|           0|\n",
            "|          7.3|            0.45|       0.36|           5.9|    0.074|               12.0|                87.0| 0.9978|3.33|     0.83|   10.5|      5|           0|\n",
            "|          7.5|            0.49|        0.2|           2.6|    0.332|                8.0|                14.0| 0.9968|3.21|      0.9|   10.5|      6|           1|\n",
            "|          8.1|            0.66|       0.22|           2.2|    0.069|                9.0|                23.0| 0.9968| 3.3|      1.2|   10.3|      5|           0|\n",
            "|          4.6|            0.52|       0.15|           2.1|    0.054|                8.0|                65.0| 0.9934| 3.9|     0.56|   13.1|      4|           0|\n",
            "|          7.6|            0.51|       0.15|           2.8|     0.11|               33.0|                73.0| 0.9955|3.17|     0.63|   10.2|      6|           1|\n",
            "|          7.2|           0.725|       0.05|          4.65|    0.086|                4.0|                11.0| 0.9962|3.41|     0.39|   10.9|      5|           0|\n",
            "|          7.2|           0.725|       0.05|          4.65|    0.086|                4.0|                11.0| 0.9962|3.41|     0.39|   10.9|      5|           0|\n",
            "|          6.6|           0.705|       0.07|           1.6|    0.076|                6.0|                15.0| 0.9962|3.44|     0.58|   10.7|      5|           0|\n",
            "|          9.3|            0.32|       0.57|           2.0|    0.074|               27.0|                65.0| 0.9969|3.28|     0.79|   10.7|      5|           0|\n",
            "|          8.0|           0.705|       0.05|           1.9|    0.074|                8.0|                19.0| 0.9962|3.34|     0.95|   10.5|      6|           1|\n",
            "|          8.8|            0.41|       0.64|           2.2|    0.093|                9.0|                42.0| 0.9986|3.54|     0.66|   10.5|      5|           0|\n",
            "|          8.8|            0.41|       0.64|           2.2|    0.093|                9.0|                42.0| 0.9986|3.54|     0.66|   10.5|      5|           0|\n",
            "|          6.8|           0.785|        0.0|           2.4|    0.104|               14.0|                30.0| 0.9966|3.52|     0.55|   10.7|      6|           1|\n",
            "+-------------+----------------+-----------+--------------+---------+-------------------+--------------------+-------+----+---------+-------+-------+------------+\n",
            "only showing top 20 rows\n",
            "\n"
          ],
          "name": "stdout"
        }
      ]
    },
    {
      "cell_type": "code",
      "metadata": {
        "id": "jPuV30NZJQBk"
      },
      "source": [
        "# Alrigth since we no longer need 'quality' column, let's drop it\n",
        "wine = wine.drop('quality')"
      ],
      "execution_count": null,
      "outputs": []
    },
    {
      "cell_type": "code",
      "metadata": {
        "colab": {
          "base_uri": "https://localhost:8080/"
        },
        "id": "-239KtK0JUHx",
        "outputId": "5a135070-b62f-4b56-c0a6-2f8f3b87d06f"
      },
      "source": [
        "# Let's print the schema again to make sure 'quality' isn't there\n",
        "wine.printSchema()"
      ],
      "execution_count": null,
      "outputs": [
        {
          "output_type": "stream",
          "text": [
            "root\n",
            " |-- fixed acidity: double (nullable = true)\n",
            " |-- volatile acidity: double (nullable = true)\n",
            " |-- citric acid: double (nullable = true)\n",
            " |-- residual sugar: double (nullable = true)\n",
            " |-- chlorides: double (nullable = true)\n",
            " |-- free sulfur dioxide: double (nullable = true)\n",
            " |-- total sulfur dioxide: double (nullable = true)\n",
            " |-- density: double (nullable = true)\n",
            " |-- pH: double (nullable = true)\n",
            " |-- sulphates: double (nullable = true)\n",
            " |-- alcohol: double (nullable = true)\n",
            " |-- good_quality: integer (nullable = false)\n",
            "\n"
          ],
          "name": "stdout"
        }
      ]
    },
    {
      "cell_type": "code",
      "metadata": {
        "colab": {
          "base_uri": "https://localhost:8080/"
        },
        "id": "NIX5o5OjJWyO",
        "outputId": "0217947b-5ef7-45b1-e286-c7b4b61affba"
      },
      "source": [
        "# now lets take a look at our dataset\n",
        "wine.show(5)"
      ],
      "execution_count": null,
      "outputs": [
        {
          "output_type": "stream",
          "text": [
            "+-------------+----------------+-----------+--------------+---------+-------------------+--------------------+-------+----+---------+-------+------------+\n",
            "|fixed acidity|volatile acidity|citric acid|residual sugar|chlorides|free sulfur dioxide|total sulfur dioxide|density|  pH|sulphates|alcohol|good_quality|\n",
            "+-------------+----------------+-----------+--------------+---------+-------------------+--------------------+-------+----+---------+-------+------------+\n",
            "|          7.4|             0.7|        0.0|           1.9|    0.076|               11.0|                34.0| 0.9978|3.51|     0.56|    9.4|           0|\n",
            "|          7.8|            0.88|        0.0|           2.6|    0.098|               25.0|                67.0| 0.9968| 3.2|     0.68|    9.8|           0|\n",
            "|          7.8|            0.76|       0.04|           2.3|    0.092|               15.0|                54.0|  0.997|3.26|     0.65|    9.8|           0|\n",
            "|         11.2|            0.28|       0.56|           1.9|    0.075|               17.0|                60.0|  0.998|3.16|     0.58|    9.8|           1|\n",
            "|          7.4|             0.7|        0.0|           1.9|    0.076|               11.0|                34.0| 0.9978|3.51|     0.56|    9.4|           0|\n",
            "+-------------+----------------+-----------+--------------+---------+-------------------+--------------------+-------+----+---------+-------+------------+\n",
            "only showing top 5 rows\n",
            "\n"
          ],
          "name": "stdout"
        }
      ]
    },
    {
      "cell_type": "code",
      "metadata": {
        "colab": {
          "base_uri": "https://localhost:8080/"
        },
        "id": "oHCtYU7pJcFt",
        "outputId": "7f44b290-d6a6-488f-a00f-64f0d2797aa4"
      },
      "source": [
        "# We can also convert the data back into RDD but we really don't need it so this block of code is useless\n",
        "rdd = wine.rdd\n",
        "rdd.glom()"
      ],
      "execution_count": null,
      "outputs": [
        {
          "output_type": "execute_result",
          "data": {
            "text/plain": [
              "PythonRDD[272] at RDD at PythonRDD.scala:53"
            ]
          },
          "metadata": {
            "tags": []
          },
          "execution_count": 132
        }
      ]
    },
    {
      "cell_type": "code",
      "metadata": {
        "colab": {
          "base_uri": "https://localhost:8080/"
        },
        "id": "bw6jnzNbJf5E",
        "outputId": "768af84c-e119-4340-f897-6fb126d78ea3"
      },
      "source": [
        "# Let's look at our data summary\n",
        "wine.describe().select('summary','fixed acidity','volatile acidity','citric acid','residual sugar','chlorides','free sulfur dioxide','total sulfur dioxide', 'density', 'pH', 'sulphates', 'alcohol').show()"
      ],
      "execution_count": null,
      "outputs": [
        {
          "output_type": "stream",
          "text": [
            "+-------+------------------+-------------------+-------------------+------------------+--------------------+-------------------+--------------------+--------------------+-------------------+------------------+------------------+\n",
            "|summary|     fixed acidity|   volatile acidity|        citric acid|    residual sugar|           chlorides|free sulfur dioxide|total sulfur dioxide|             density|                 pH|         sulphates|           alcohol|\n",
            "+-------+------------------+-------------------+-------------------+------------------+--------------------+-------------------+--------------------+--------------------+-------------------+------------------+------------------+\n",
            "|  count|              1599|               1599|               1599|              1599|                1599|               1599|                1599|                1599|               1599|              1599|              1599|\n",
            "|   mean| 8.319637273295838| 0.5278205128205131| 0.2709756097560964|2.5388055034396517| 0.08746654158849257| 15.874921826141339|   46.46779237023139|  0.9967466791744831|  3.311113195747343|0.6581488430268921|10.422983114446502|\n",
            "| stddev|1.7410963181276948|0.17905970415353525|0.19480113740531824|  1.40992805950728|0.047065302010090085|  10.46015696980971|   32.89532447829907|0.001887333953842...|0.15438646490354271|0.1695069795901101|1.0656675818563979|\n",
            "|    min|               4.6|               0.12|                0.0|               0.9|               0.012|                1.0|                 6.0|             0.99007|               2.74|              0.33|               8.4|\n",
            "|    max|              15.9|               1.58|                1.0|              15.5|               0.611|               72.0|               289.0|             1.00369|               4.01|               2.0|              14.9|\n",
            "+-------+------------------+-------------------+-------------------+------------------+--------------------+-------------------+--------------------+--------------------+-------------------+------------------+------------------+\n",
            "\n"
          ],
          "name": "stdout"
        }
      ]
    },
    {
      "cell_type": "code",
      "metadata": {
        "colab": {
          "base_uri": "https://localhost:8080/"
        },
        "id": "9n0vB9vHJj8j",
        "outputId": "a5c83293-49eb-4a3d-f29b-ce86f21fa95b"
      },
      "source": [
        "# Let's do a group by on 'good_quality' column\n",
        "wine.groupBy('good_quality').count().show()"
      ],
      "execution_count": null,
      "outputs": [
        {
          "output_type": "stream",
          "text": [
            "+------------+-----+\n",
            "|good_quality|count|\n",
            "+------------+-----+\n",
            "|           1|  855|\n",
            "|           0|  744|\n",
            "+------------+-----+\n",
            "\n"
          ],
          "name": "stdout"
        }
      ]
    },
    {
      "cell_type": "code",
      "metadata": {
        "colab": {
          "base_uri": "https://localhost:8080/"
        },
        "id": "giO62WQnJz1Q",
        "outputId": "ae61bba4-267c-4334-b8e9-6c8bb37c6b49"
      },
      "source": [
        "# we can also compare different category columns with good_quality column to do more EDA but I think we have already done enough EDA so let's do just this one\n",
        "wine.groupBy('volatile acidity','good_quality').count().orderBy('volatile acidity','good_quality','count',ascending=True).show()"
      ],
      "execution_count": null,
      "outputs": [
        {
          "output_type": "stream",
          "text": [
            "+----------------+------------+-----+\n",
            "|volatile acidity|good_quality|count|\n",
            "+----------------+------------+-----+\n",
            "|            0.12|           1|    3|\n",
            "|            0.16|           1|    2|\n",
            "|            0.18|           0|    2|\n",
            "|            0.18|           1|    8|\n",
            "|            0.19|           0|    1|\n",
            "|            0.19|           1|    1|\n",
            "|             0.2|           0|    1|\n",
            "|             0.2|           1|    2|\n",
            "|            0.21|           0|    1|\n",
            "|            0.21|           1|    5|\n",
            "|            0.22|           1|    6|\n",
            "|            0.23|           0|    2|\n",
            "|            0.23|           1|    3|\n",
            "|            0.24|           0|    2|\n",
            "|            0.24|           1|   11|\n",
            "|            0.25|           1|    7|\n",
            "|            0.26|           0|    2|\n",
            "|            0.26|           1|   14|\n",
            "|            0.27|           0|    1|\n",
            "|            0.27|           1|   13|\n",
            "+----------------+------------+-----+\n",
            "only showing top 20 rows\n",
            "\n"
          ],
          "name": "stdout"
        }
      ]
    },
    {
      "cell_type": "code",
      "metadata": {
        "colab": {
          "base_uri": "https://localhost:8080/"
        },
        "id": "GaZpk7hrJ5Xn",
        "outputId": "79ee2102-5abf-4392-ee19-32fad5ce3729"
      },
      "source": [
        "# Let's get the mean of our categorical column\n",
        "wine.groupBy('good_quality').mean().show()"
      ],
      "execution_count": null,
      "outputs": [
        {
          "output_type": "stream",
          "text": [
            "+------------+------------------+---------------------+-------------------+-------------------+-------------------+------------------------+-------------------------+------------------+------------------+------------------+------------------+-----------------+\n",
            "|good_quality|avg(fixed acidity)|avg(volatile acidity)|   avg(citric acid)|avg(residual sugar)|     avg(chlorides)|avg(free sulfur dioxide)|avg(total sulfur dioxide)|      avg(density)|           avg(pH)|    avg(sulphates)|      avg(alcohol)|avg(good_quality)|\n",
            "+------------+------------------+---------------------+-------------------+-------------------+-------------------+------------------------+-------------------------+------------------+------------------+------------------+------------------+-----------------+\n",
            "|           1| 8.474035087719294|     0.47414619883041|0.29988304093567264|  2.535964912280701|0.08266081871345021|       15.27251461988304|        39.35204678362573|0.9964666432748543|3.3106432748538075|0.6926198830409347|10.855029239766067|              1.0|\n",
            "|           0| 8.142204301075276|   0.5895026881720431|0.23775537634408567|  2.542069892473117|0.09298924731182794|      16.567204301075268|       54.645161290322584|0.9970684946236549| 3.311653225806453| 0.618534946236559| 9.926478494623645|              0.0|\n",
            "+------------+------------------+---------------------+-------------------+-------------------+-------------------+------------------------+-------------------------+------------------+------------------+------------------+------------------+-----------------+\n",
            "\n"
          ],
          "name": "stdout"
        }
      ]
    },
    {
      "cell_type": "markdown",
      "metadata": {
        "id": "Labh1sE-pofz"
      },
      "source": [
        "Now Let's do some machine learning. We are going to use DecisionTree Classifier adn Random Forest Classifier. We are going to divide our data into training and Testing dataset and the we will use machine learning algorithms to predict output values. And then we will also check which model is more accurate."
      ]
    },
    {
      "cell_type": "code",
      "metadata": {
        "id": "Mnzk6mr2KCXa"
      },
      "source": [
        "# Importing VectorAssembler\n",
        "from pyspark.ml.feature import VectorAssembler"
      ],
      "execution_count": null,
      "outputs": []
    },
    {
      "cell_type": "code",
      "metadata": {
        "id": "y6CNACCsKFfi",
        "colab": {
          "base_uri": "https://localhost:8080/",
          "height": 52
        },
        "outputId": "7fd4bd26-2ab5-442a-e319-71daada2d208"
      },
      "source": [
        "'''\n",
        "# Transforming data using vector assember\n",
        "wine_assembler = VectorAssembler(inputCols=['fixed acidity', 'volatile acidity', 'citric acid', 'residual sugar', 'chlorides', 'free sulfur dioxide', 'total sulfur dioxide', 'density',  'pH', 'sulphates', 'alcohol'], outputCol=\"features\")\n",
        "wine = wine_assembler.transform(wine)\n",
        "'''"
      ],
      "execution_count": null,
      "outputs": [
        {
          "output_type": "execute_result",
          "data": {
            "application/vnd.google.colaboratory.intrinsic+json": {
              "type": "string"
            },
            "text/plain": [
              "'\\n# Transforming data using vector assember\\nwine_assembler = VectorAssembler(inputCols=[\\'fixed acidity\\', \\'volatile acidity\\', \\'citric acid\\', \\'residual sugar\\', \\'chlorides\\', \\'free sulfur dioxide\\', \\'total sulfur dioxide\\', \\'density\\',  \\'pH\\', \\'sulphates\\', \\'alcohol\\'], outputCol=\"features\")\\nwine = wine_assembler.transform(wine)\\n'"
            ]
          },
          "metadata": {
            "tags": []
          },
          "execution_count": 101
        }
      ]
    },
    {
      "cell_type": "code",
      "metadata": {
        "id": "xvz-dTjXKIxH"
      },
      "source": [
        "\n",
        "# Transforming data using vector assember\n",
        "wine_assembler = VectorAssembler(inputCols=['citric acid', 'sulphates', 'alcohol'], outputCol=\"features\")\n",
        "wine = wine_assembler.transform(wine)\n"
      ],
      "execution_count": null,
      "outputs": []
    },
    {
      "cell_type": "code",
      "metadata": {
        "colab": {
          "base_uri": "https://localhost:8080/"
        },
        "id": "tNRDqzm2KKFm",
        "outputId": "d26d2cda-998a-4f9d-cdfd-f4dd44a4ce2c"
      },
      "source": [
        "# Let's print the schema\n",
        "wine.printSchema()"
      ],
      "execution_count": null,
      "outputs": [
        {
          "output_type": "stream",
          "text": [
            "root\n",
            " |-- fixed acidity: double (nullable = true)\n",
            " |-- volatile acidity: double (nullable = true)\n",
            " |-- citric acid: double (nullable = true)\n",
            " |-- residual sugar: double (nullable = true)\n",
            " |-- chlorides: double (nullable = true)\n",
            " |-- free sulfur dioxide: double (nullable = true)\n",
            " |-- total sulfur dioxide: double (nullable = true)\n",
            " |-- density: double (nullable = true)\n",
            " |-- pH: double (nullable = true)\n",
            " |-- sulphates: double (nullable = true)\n",
            " |-- alcohol: double (nullable = true)\n",
            " |-- good_quality: integer (nullable = false)\n",
            " |-- features: vector (nullable = true)\n",
            "\n"
          ],
          "name": "stdout"
        }
      ]
    },
    {
      "cell_type": "code",
      "metadata": {
        "id": "FmoYFI3tKmAD"
      },
      "source": [
        "# let's select data for building model\n",
        "model_data=wine.select(['features','good_quality'])"
      ],
      "execution_count": null,
      "outputs": []
    },
    {
      "cell_type": "code",
      "metadata": {
        "id": "c226lc3FKtGJ"
      },
      "source": [
        "# we will divide training and testing dataset into 75:25 ratio\n",
        "train_data,test_data=model_data.randomSplit([0.75,0.25])"
      ],
      "execution_count": null,
      "outputs": []
    },
    {
      "cell_type": "code",
      "metadata": {
        "colab": {
          "base_uri": "https://localhost:8080/"
        },
        "id": "mmX0nKAjK9U0",
        "outputId": "858c4958-ddd9-4aae-952a-20b237a22730"
      },
      "source": [
        "train_data.count(), test_data.count()"
      ],
      "execution_count": null,
      "outputs": [
        {
          "output_type": "execute_result",
          "data": {
            "text/plain": [
              "(1212, 387)"
            ]
          },
          "metadata": {
            "tags": []
          },
          "execution_count": 142
        }
      ]
    },
    {
      "cell_type": "code",
      "metadata": {
        "colab": {
          "base_uri": "https://localhost:8080/"
        },
        "id": "COmmW545LGkd",
        "outputId": "6a0ed5dd-22a7-4f77-b297-b1cc4bc6ca72"
      },
      "source": [
        "# Let's look at our training dataset\n",
        "train_data.groupBy('good_quality').count().show()"
      ],
      "execution_count": null,
      "outputs": [
        {
          "output_type": "stream",
          "text": [
            "+------------+-----+\n",
            "|good_quality|count|\n",
            "+------------+-----+\n",
            "|           1|  650|\n",
            "|           0|  562|\n",
            "+------------+-----+\n",
            "\n"
          ],
          "name": "stdout"
        }
      ]
    },
    {
      "cell_type": "code",
      "metadata": {
        "colab": {
          "base_uri": "https://localhost:8080/"
        },
        "id": "HdyNciHeLMO8",
        "outputId": "69309842-d9f3-4785-bd14-7c8e139c8463"
      },
      "source": [
        "# let's look at our testing dataset\n",
        "test_data.groupBy('good_quality').count().show()"
      ],
      "execution_count": null,
      "outputs": [
        {
          "output_type": "stream",
          "text": [
            "+------------+-----+\n",
            "|good_quality|count|\n",
            "+------------+-----+\n",
            "|           1|  205|\n",
            "|           0|  182|\n",
            "+------------+-----+\n",
            "\n"
          ],
          "name": "stdout"
        }
      ]
    },
    {
      "cell_type": "code",
      "metadata": {
        "id": "lHb8lgItLP3f"
      },
      "source": [
        "# We will first start with decision tree classifier\n",
        "from pyspark.ml.classification import DecisionTreeClassifier"
      ],
      "execution_count": null,
      "outputs": []
    },
    {
      "cell_type": "code",
      "metadata": {
        "id": "3NdwU55uLSq5"
      },
      "source": [
        "dtree_classifier=DecisionTreeClassifier(labelCol='good_quality').fit(train_data)"
      ],
      "execution_count": null,
      "outputs": []
    },
    {
      "cell_type": "code",
      "metadata": {
        "id": "04CrTioZLcJn"
      },
      "source": [
        "# transforming the testing data \n",
        "dtree_predictions=dtree_classifier.transform(test_data)"
      ],
      "execution_count": null,
      "outputs": []
    },
    {
      "cell_type": "markdown",
      "metadata": {
        "id": "szWo5CNnrQuT"
      },
      "source": [
        "Let's look at the predictions"
      ]
    },
    {
      "cell_type": "code",
      "metadata": {
        "colab": {
          "base_uri": "https://localhost:8080/"
        },
        "id": "GqzLRN5qLj0w",
        "outputId": "865771e3-2e96-4863-daef-1eb0d2caf47c"
      },
      "source": [
        "dtree_predictions.show()"
      ],
      "execution_count": null,
      "outputs": [
        {
          "output_type": "stream",
          "text": [
            "+---------------+------------+-------------+--------------------+----------+\n",
            "|       features|good_quality|rawPrediction|         probability|prediction|\n",
            "+---------------+------------+-------------+--------------------+----------+\n",
            "| [0.0,0.4,10.9]|           0|  [23.0,10.0]|[0.69696969696969...|       0.0|\n",
            "|[0.0,0.44,11.9]|           1|    [2.0,8.0]|           [0.2,0.8]|       1.0|\n",
            "| [0.0,0.45,9.4]|           0| [119.0,16.0]|[0.88148148148148...|       0.0|\n",
            "| [0.0,0.45,9.5]|           0| [119.0,16.0]|[0.88148148148148...|       0.0|\n",
            "| [0.0,0.45,9.5]|           0| [119.0,16.0]|[0.88148148148148...|       0.0|\n",
            "| [0.0,0.45,9.5]|           0| [119.0,16.0]|[0.88148148148148...|       0.0|\n",
            "|[0.0,0.52,10.8]|           0| [92.0,157.0]|[0.36947791164658...|       1.0|\n",
            "|[0.0,0.53,11.2]|           0| [92.0,157.0]|[0.36947791164658...|       1.0|\n",
            "| [0.0,0.54,9.4]|           0|  [60.0,15.0]|           [0.8,0.2]|       0.0|\n",
            "| [0.0,0.55,9.7]|           0|  [60.0,15.0]|           [0.8,0.2]|       0.0|\n",
            "|[0.0,0.55,10.7]|           1| [92.0,157.0]|[0.36947791164658...|       1.0|\n",
            "|[0.0,0.55,11.5]|           1| [92.0,157.0]|[0.36947791164658...|       1.0|\n",
            "| [0.0,0.56,9.4]|           0|  [60.0,15.0]|           [0.8,0.2]|       0.0|\n",
            "| [0.0,0.56,9.4]|           0|  [60.0,15.0]|           [0.8,0.2]|       0.0|\n",
            "|[0.0,0.56,10.8]|           0| [92.0,157.0]|[0.36947791164658...|       1.0|\n",
            "| [0.0,0.58,9.0]|           1|  [93.0,52.0]|[0.64137931034482...|       0.0|\n",
            "| [0.0,0.59,9.8]|           1|  [93.0,52.0]|[0.64137931034482...|       0.0|\n",
            "|[0.0,0.59,12.5]|           1|   [4.0,34.0]|[0.10526315789473...|       1.0|\n",
            "|  [0.0,0.6,9.3]|           0|  [93.0,52.0]|[0.64137931034482...|       0.0|\n",
            "|[0.0,0.61,10.0]|           0|    [2.0,7.0]|[0.22222222222222...|       1.0|\n",
            "+---------------+------------+-------------+--------------------+----------+\n",
            "only showing top 20 rows\n",
            "\n"
          ],
          "name": "stdout"
        }
      ]
    },
    {
      "cell_type": "code",
      "metadata": {
        "id": "CLAHoc8aLvYI",
        "colab": {
          "base_uri": "https://localhost:8080/"
        },
        "outputId": "a39d2cd9-3abb-418b-fbde-7f86e8e40c1a"
      },
      "source": [
        "dtree_predictions.groupBy('prediction').count().show()"
      ],
      "execution_count": null,
      "outputs": [
        {
          "output_type": "stream",
          "text": [
            "+----------+-----+\n",
            "|prediction|count|\n",
            "+----------+-----+\n",
            "|       0.0|  173|\n",
            "|       1.0|  214|\n",
            "+----------+-----+\n",
            "\n"
          ],
          "name": "stdout"
        }
      ]
    },
    {
      "cell_type": "code",
      "metadata": {
        "id": "BCd0w3yBLzpX",
        "colab": {
          "base_uri": "https://localhost:8080/"
        },
        "outputId": "a7d947fc-3f9c-4381-84ef-d2285d0a5d7b"
      },
      "source": [
        "# lets look at predictions side by side with probability adn good_quality\n",
        "dtree_predictions.select(['probability','good_quality','prediction']).show(5,False)"
      ],
      "execution_count": null,
      "outputs": [
        {
          "output_type": "stream",
          "text": [
            "+----------------------------------------+------------+----------+\n",
            "|probability                             |good_quality|prediction|\n",
            "+----------------------------------------+------------+----------+\n",
            "|[0.696969696969697,0.30303030303030304] |0           |0.0       |\n",
            "|[0.2,0.8]                               |1           |1.0       |\n",
            "|[0.8814814814814815,0.11851851851851852]|0           |0.0       |\n",
            "|[0.8814814814814815,0.11851851851851852]|0           |0.0       |\n",
            "|[0.8814814814814815,0.11851851851851852]|0           |0.0       |\n",
            "+----------------------------------------+------------+----------+\n",
            "only showing top 5 rows\n",
            "\n"
          ],
          "name": "stdout"
        }
      ]
    },
    {
      "cell_type": "code",
      "metadata": {
        "id": "9uPflNgHL35k"
      },
      "source": [
        "from pyspark.ml.evaluation import BinaryClassificationEvaluator\n",
        "from pyspark.ml.evaluation import MulticlassClassificationEvaluator"
      ],
      "execution_count": null,
      "outputs": []
    },
    {
      "cell_type": "code",
      "metadata": {
        "id": "lOJy4x-bL5zP"
      },
      "source": [
        "# lets check the accuracy of our model\n",
        "dtree_accuracy=MulticlassClassificationEvaluator(labelCol='good_quality',metricName='accuracy').evaluate(dtree_predictions)"
      ],
      "execution_count": null,
      "outputs": []
    },
    {
      "cell_type": "code",
      "metadata": {
        "id": "8zDPY1e7L_JG",
        "colab": {
          "base_uri": "https://localhost:8080/"
        },
        "outputId": "2a4ab284-09d1-447a-fd6c-4bdf65246abd"
      },
      "source": [
        "print('The accuracy of our decision tree model on test data is {0:.0%}'.format(dtree_accuracy))"
      ],
      "execution_count": null,
      "outputs": [
        {
          "output_type": "stream",
          "text": [
            "The accuracy of our decision tree model on test data is 72%\n"
          ],
          "name": "stdout"
        }
      ]
    },
    {
      "cell_type": "markdown",
      "metadata": {
        "id": "bCRgust_rgjk"
      },
      "source": [
        "Now lets try random forest classifier and repeat same steps "
      ]
    },
    {
      "cell_type": "code",
      "metadata": {
        "id": "sLQk8TENMGaW"
      },
      "source": [
        "from pyspark.ml.classification import RandomForestClassifier"
      ],
      "execution_count": null,
      "outputs": []
    },
    {
      "cell_type": "code",
      "metadata": {
        "id": "lIzYBRzcMI6j"
      },
      "source": [
        "rf_classifier=RandomForestClassifier(labelCol='good_quality',numTrees=40).fit(train_data)"
      ],
      "execution_count": null,
      "outputs": []
    },
    {
      "cell_type": "code",
      "metadata": {
        "id": "ye2uQyhCMQz-"
      },
      "source": [
        "rf_predictions=rf_classifier.transform(test_data)"
      ],
      "execution_count": null,
      "outputs": []
    },
    {
      "cell_type": "markdown",
      "metadata": {
        "id": "gbGkdcQkrqdl"
      },
      "source": [
        "Now let's look at random forest predictions"
      ]
    },
    {
      "cell_type": "code",
      "metadata": {
        "id": "F5Q7-IazMV18",
        "colab": {
          "base_uri": "https://localhost:8080/"
        },
        "outputId": "ca4501c0-5c73-40d5-f1a3-c5feb122edf4"
      },
      "source": [
        "rf_predictions.show(5, False)"
      ],
      "execution_count": null,
      "outputs": [
        {
          "output_type": "stream",
          "text": [
            "+---------------+------------+---------------------------------------+----------------------------------------+----------+\n",
            "|features       |good_quality|rawPrediction                          |probability                             |prediction|\n",
            "+---------------+------------+---------------------------------------+----------------------------------------+----------+\n",
            "|[0.0,0.4,10.9] |0           |[29.1831190457341,10.816880954265894]  |[0.7295779761433526,0.2704220238566474] |0.0       |\n",
            "|[0.0,0.44,11.9]|1           |[16.016846763317776,23.983153236682224]|[0.4004211690829444,0.5995788309170555] |1.0       |\n",
            "|[0.0,0.45,9.4] |0           |[35.014537473568026,4.9854625264319745]|[0.8753634368392007,0.12463656316079937]|0.0       |\n",
            "|[0.0,0.45,9.5] |0           |[35.014537473568026,4.9854625264319745]|[0.8753634368392007,0.12463656316079937]|0.0       |\n",
            "|[0.0,0.45,9.5] |0           |[35.014537473568026,4.9854625264319745]|[0.8753634368392007,0.12463656316079937]|0.0       |\n",
            "+---------------+------------+---------------------------------------+----------------------------------------+----------+\n",
            "only showing top 5 rows\n",
            "\n"
          ],
          "name": "stdout"
        }
      ]
    },
    {
      "cell_type": "code",
      "metadata": {
        "id": "Wtz2NWX7MZ_C",
        "colab": {
          "base_uri": "https://localhost:8080/"
        },
        "outputId": "bb6e1014-5bb1-456b-d0ea-5b1f98e25106"
      },
      "source": [
        "rf_predictions.groupBy('prediction').count().show()"
      ],
      "execution_count": null,
      "outputs": [
        {
          "output_type": "stream",
          "text": [
            "+----------+-----+\n",
            "|prediction|count|\n",
            "+----------+-----+\n",
            "|       0.0|  183|\n",
            "|       1.0|  204|\n",
            "+----------+-----+\n",
            "\n"
          ],
          "name": "stdout"
        }
      ]
    },
    {
      "cell_type": "code",
      "metadata": {
        "id": "VeRC3z8VMfFA",
        "colab": {
          "base_uri": "https://localhost:8080/"
        },
        "outputId": "7eac7a4b-a4f7-4283-a637-c88c333f278c"
      },
      "source": [
        "rf_predictions.select(['probability','good_quality','prediction']).show(5,False)"
      ],
      "execution_count": null,
      "outputs": [
        {
          "output_type": "stream",
          "text": [
            "+----------------------------------------+------------+----------+\n",
            "|probability                             |good_quality|prediction|\n",
            "+----------------------------------------+------------+----------+\n",
            "|[0.7295779761433526,0.2704220238566474] |0           |0.0       |\n",
            "|[0.4004211690829444,0.5995788309170555] |1           |1.0       |\n",
            "|[0.8753634368392007,0.12463656316079937]|0           |0.0       |\n",
            "|[0.8753634368392007,0.12463656316079937]|0           |0.0       |\n",
            "|[0.8753634368392007,0.12463656316079937]|0           |0.0       |\n",
            "+----------------------------------------+------------+----------+\n",
            "only showing top 5 rows\n",
            "\n"
          ],
          "name": "stdout"
        }
      ]
    },
    {
      "cell_type": "markdown",
      "metadata": {
        "id": "oihlKlTaruib"
      },
      "source": [
        "Now let's check out the accuracy with random forest classifer "
      ]
    },
    {
      "cell_type": "code",
      "metadata": {
        "id": "9ktnOg4zMkMq"
      },
      "source": [
        "rf_accuracy=MulticlassClassificationEvaluator(labelCol='good_quality',metricName='accuracy').evaluate(rf_predictions)"
      ],
      "execution_count": null,
      "outputs": []
    },
    {
      "cell_type": "code",
      "metadata": {
        "id": "ZsBVsU0rMqdF",
        "colab": {
          "base_uri": "https://localhost:8080/"
        },
        "outputId": "8cbc4d33-4e06-413b-c020-83c93fa8001f"
      },
      "source": [
        "print('The accuracy of our random forest model on test data is {0:.0%}'.format(rf_accuracy))"
      ],
      "execution_count": null,
      "outputs": [
        {
          "output_type": "stream",
          "text": [
            "The accuracy of our random forest model on test data is 78%\n"
          ],
          "name": "stdout"
        }
      ]
    },
    {
      "cell_type": "markdown",
      "metadata": {
        "id": "YhO_Za0dr9RE"
      },
      "source": [
        "Conclusion: With the current model, random forest classifier gives the better model with 78% accuracy as compared to 72% accuracy with decision tree classifier"
      ]
    }
  ]
}